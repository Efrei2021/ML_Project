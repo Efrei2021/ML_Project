{
 "cells": [
  {
   "cell_type": "markdown",
   "metadata": {},
   "source": [
    "# APPLICATIONS OF BIG DATA - HOME CREDIT DEFAULT RISK"
   ]
  },
  {
   "cell_type": "markdown",
   "metadata": {},
   "source": [
    "https://www.kaggle.com/c/home-credit-default-risk/data"
   ]
  },
  {
   "cell_type": "markdown",
   "metadata": {},
   "source": [
    "#### About the Data\n",
    "\n",
    "- The application_train & application_test informe us about each loan application at Home Credit. Every loan has its own row and is identified by the feature SK_ID_CURR. \n",
    "\n",
    "> The application_train dataset comes with the TARGET column indicating (0: the loan was repaid | 1: the loan was not repaid)"
   ]
  },
  {
   "cell_type": "markdown",
   "metadata": {},
   "source": [
    "### LIBRARIES"
   ]
  },
  {
   "cell_type": "code",
   "execution_count": 1,
   "metadata": {},
   "outputs": [],
   "source": [
    "import os\n",
    "import warnings\n",
    "warnings.filterwarnings('ignore')\n",
    "import sys\n",
    "\n",
    "import pandas as pd\n",
    "import numpy as np\n",
    "\n",
    "import matplotlib.pyplot as plt\n",
    "import seaborn as sns\n",
    "\n",
    "from sklearn.preprocessing import LabelEncoder\n",
    "\n",
    "import mlflow\n",
    "import mlflow.sklearn"
   ]
  },
  {
   "cell_type": "markdown",
   "metadata": {},
   "source": [
    "### DATASETS"
   ]
  },
  {
   "cell_type": "code",
   "execution_count": 45,
   "metadata": {},
   "outputs": [
    {
     "name": "stderr",
     "output_type": "stream",
     "text": [
      "C:\\Users\\carol\\anaconda3\\envs\\ML_conda_env\\lib\\site-packages\\ipykernel\\ipkernel.py:287: DeprecationWarning: `should_run_async` will not call `transform_cell` automatically in the future. Please pass the result to `transformed_cell` argument and any exception that happen during thetransform in `preprocessing_exc_tuple` in IPython 7.17 and above.\n",
      "  and should_run_async(code)\n"
     ]
    }
   ],
   "source": [
    "url_test = \"C:/Users/carol/Google Drive/BIG DATA/S9/APPLICATIONS OF BIG DATA/ML_PROJECT/Data/application_test.csv\"\n",
    "url_train = \"C:/Users/carol/Google Drive/BIG DATA/S9/APPLICATIONS OF BIG DATA/ML_PROJECT/Data/application_train.csv\"\n",
    "\n",
    "application_test = pd.read_csv(url_test)\n",
    "application_train = pd.read_csv(url_train)"
   ]
  },
  {
   "cell_type": "code",
   "execution_count": 46,
   "metadata": {
    "scrolled": true
   },
   "outputs": [
    {
     "data": {
      "text/html": [
       "<div>\n",
       "<style scoped>\n",
       "    .dataframe tbody tr th:only-of-type {\n",
       "        vertical-align: middle;\n",
       "    }\n",
       "\n",
       "    .dataframe tbody tr th {\n",
       "        vertical-align: top;\n",
       "    }\n",
       "\n",
       "    .dataframe thead th {\n",
       "        text-align: right;\n",
       "    }\n",
       "</style>\n",
       "<table border=\"1\" class=\"dataframe\">\n",
       "  <thead>\n",
       "    <tr style=\"text-align: right;\">\n",
       "      <th></th>\n",
       "      <th>SK_ID_CURR</th>\n",
       "      <th>TARGET</th>\n",
       "      <th>NAME_CONTRACT_TYPE</th>\n",
       "      <th>CODE_GENDER</th>\n",
       "      <th>FLAG_OWN_CAR</th>\n",
       "      <th>FLAG_OWN_REALTY</th>\n",
       "      <th>CNT_CHILDREN</th>\n",
       "      <th>AMT_INCOME_TOTAL</th>\n",
       "      <th>AMT_CREDIT</th>\n",
       "      <th>AMT_ANNUITY</th>\n",
       "      <th>...</th>\n",
       "      <th>FLAG_DOCUMENT_18</th>\n",
       "      <th>FLAG_DOCUMENT_19</th>\n",
       "      <th>FLAG_DOCUMENT_20</th>\n",
       "      <th>FLAG_DOCUMENT_21</th>\n",
       "      <th>AMT_REQ_CREDIT_BUREAU_HOUR</th>\n",
       "      <th>AMT_REQ_CREDIT_BUREAU_DAY</th>\n",
       "      <th>AMT_REQ_CREDIT_BUREAU_WEEK</th>\n",
       "      <th>AMT_REQ_CREDIT_BUREAU_MON</th>\n",
       "      <th>AMT_REQ_CREDIT_BUREAU_QRT</th>\n",
       "      <th>AMT_REQ_CREDIT_BUREAU_YEAR</th>\n",
       "    </tr>\n",
       "  </thead>\n",
       "  <tbody>\n",
       "    <tr>\n",
       "      <th>0</th>\n",
       "      <td>100002</td>\n",
       "      <td>1</td>\n",
       "      <td>Cash loans</td>\n",
       "      <td>M</td>\n",
       "      <td>N</td>\n",
       "      <td>Y</td>\n",
       "      <td>0</td>\n",
       "      <td>202500.0</td>\n",
       "      <td>406597.5</td>\n",
       "      <td>24700.5</td>\n",
       "      <td>...</td>\n",
       "      <td>0</td>\n",
       "      <td>0</td>\n",
       "      <td>0</td>\n",
       "      <td>0</td>\n",
       "      <td>0.0</td>\n",
       "      <td>0.0</td>\n",
       "      <td>0.0</td>\n",
       "      <td>0.0</td>\n",
       "      <td>0.0</td>\n",
       "      <td>1.0</td>\n",
       "    </tr>\n",
       "    <tr>\n",
       "      <th>1</th>\n",
       "      <td>100003</td>\n",
       "      <td>0</td>\n",
       "      <td>Cash loans</td>\n",
       "      <td>F</td>\n",
       "      <td>N</td>\n",
       "      <td>N</td>\n",
       "      <td>0</td>\n",
       "      <td>270000.0</td>\n",
       "      <td>1293502.5</td>\n",
       "      <td>35698.5</td>\n",
       "      <td>...</td>\n",
       "      <td>0</td>\n",
       "      <td>0</td>\n",
       "      <td>0</td>\n",
       "      <td>0</td>\n",
       "      <td>0.0</td>\n",
       "      <td>0.0</td>\n",
       "      <td>0.0</td>\n",
       "      <td>0.0</td>\n",
       "      <td>0.0</td>\n",
       "      <td>0.0</td>\n",
       "    </tr>\n",
       "    <tr>\n",
       "      <th>2</th>\n",
       "      <td>100004</td>\n",
       "      <td>0</td>\n",
       "      <td>Revolving loans</td>\n",
       "      <td>M</td>\n",
       "      <td>Y</td>\n",
       "      <td>Y</td>\n",
       "      <td>0</td>\n",
       "      <td>67500.0</td>\n",
       "      <td>135000.0</td>\n",
       "      <td>6750.0</td>\n",
       "      <td>...</td>\n",
       "      <td>0</td>\n",
       "      <td>0</td>\n",
       "      <td>0</td>\n",
       "      <td>0</td>\n",
       "      <td>0.0</td>\n",
       "      <td>0.0</td>\n",
       "      <td>0.0</td>\n",
       "      <td>0.0</td>\n",
       "      <td>0.0</td>\n",
       "      <td>0.0</td>\n",
       "    </tr>\n",
       "    <tr>\n",
       "      <th>3</th>\n",
       "      <td>100006</td>\n",
       "      <td>0</td>\n",
       "      <td>Cash loans</td>\n",
       "      <td>F</td>\n",
       "      <td>N</td>\n",
       "      <td>Y</td>\n",
       "      <td>0</td>\n",
       "      <td>135000.0</td>\n",
       "      <td>312682.5</td>\n",
       "      <td>29686.5</td>\n",
       "      <td>...</td>\n",
       "      <td>0</td>\n",
       "      <td>0</td>\n",
       "      <td>0</td>\n",
       "      <td>0</td>\n",
       "      <td>NaN</td>\n",
       "      <td>NaN</td>\n",
       "      <td>NaN</td>\n",
       "      <td>NaN</td>\n",
       "      <td>NaN</td>\n",
       "      <td>NaN</td>\n",
       "    </tr>\n",
       "    <tr>\n",
       "      <th>4</th>\n",
       "      <td>100007</td>\n",
       "      <td>0</td>\n",
       "      <td>Cash loans</td>\n",
       "      <td>M</td>\n",
       "      <td>N</td>\n",
       "      <td>Y</td>\n",
       "      <td>0</td>\n",
       "      <td>121500.0</td>\n",
       "      <td>513000.0</td>\n",
       "      <td>21865.5</td>\n",
       "      <td>...</td>\n",
       "      <td>0</td>\n",
       "      <td>0</td>\n",
       "      <td>0</td>\n",
       "      <td>0</td>\n",
       "      <td>0.0</td>\n",
       "      <td>0.0</td>\n",
       "      <td>0.0</td>\n",
       "      <td>0.0</td>\n",
       "      <td>0.0</td>\n",
       "      <td>0.0</td>\n",
       "    </tr>\n",
       "  </tbody>\n",
       "</table>\n",
       "<p>5 rows × 122 columns</p>\n",
       "</div>"
      ],
      "text/plain": [
       "   SK_ID_CURR  TARGET NAME_CONTRACT_TYPE CODE_GENDER FLAG_OWN_CAR  \\\n",
       "0      100002       1         Cash loans           M            N   \n",
       "1      100003       0         Cash loans           F            N   \n",
       "2      100004       0    Revolving loans           M            Y   \n",
       "3      100006       0         Cash loans           F            N   \n",
       "4      100007       0         Cash loans           M            N   \n",
       "\n",
       "  FLAG_OWN_REALTY  CNT_CHILDREN  AMT_INCOME_TOTAL  AMT_CREDIT  AMT_ANNUITY  \\\n",
       "0               Y             0          202500.0    406597.5      24700.5   \n",
       "1               N             0          270000.0   1293502.5      35698.5   \n",
       "2               Y             0           67500.0    135000.0       6750.0   \n",
       "3               Y             0          135000.0    312682.5      29686.5   \n",
       "4               Y             0          121500.0    513000.0      21865.5   \n",
       "\n",
       "   ...  FLAG_DOCUMENT_18 FLAG_DOCUMENT_19 FLAG_DOCUMENT_20 FLAG_DOCUMENT_21  \\\n",
       "0  ...                 0                0                0                0   \n",
       "1  ...                 0                0                0                0   \n",
       "2  ...                 0                0                0                0   \n",
       "3  ...                 0                0                0                0   \n",
       "4  ...                 0                0                0                0   \n",
       "\n",
       "  AMT_REQ_CREDIT_BUREAU_HOUR AMT_REQ_CREDIT_BUREAU_DAY  \\\n",
       "0                        0.0                       0.0   \n",
       "1                        0.0                       0.0   \n",
       "2                        0.0                       0.0   \n",
       "3                        NaN                       NaN   \n",
       "4                        0.0                       0.0   \n",
       "\n",
       "   AMT_REQ_CREDIT_BUREAU_WEEK  AMT_REQ_CREDIT_BUREAU_MON  \\\n",
       "0                         0.0                        0.0   \n",
       "1                         0.0                        0.0   \n",
       "2                         0.0                        0.0   \n",
       "3                         NaN                        NaN   \n",
       "4                         0.0                        0.0   \n",
       "\n",
       "   AMT_REQ_CREDIT_BUREAU_QRT  AMT_REQ_CREDIT_BUREAU_YEAR  \n",
       "0                        0.0                         1.0  \n",
       "1                        0.0                         0.0  \n",
       "2                        0.0                         0.0  \n",
       "3                        NaN                         NaN  \n",
       "4                        0.0                         0.0  \n",
       "\n",
       "[5 rows x 122 columns]"
      ]
     },
     "execution_count": 46,
     "metadata": {},
     "output_type": "execute_result"
    }
   ],
   "source": [
    "application_train.head()"
   ]
  },
  {
   "cell_type": "code",
   "execution_count": 47,
   "metadata": {
    "scrolled": true
   },
   "outputs": [
    {
     "name": "stderr",
     "output_type": "stream",
     "text": [
      "C:\\Users\\carol\\anaconda3\\envs\\ML_conda_env\\lib\\site-packages\\ipykernel\\ipkernel.py:287: DeprecationWarning: `should_run_async` will not call `transform_cell` automatically in the future. Please pass the result to `transformed_cell` argument and any exception that happen during thetransform in `preprocessing_exc_tuple` in IPython 7.17 and above.\n",
      "  and should_run_async(code)\n"
     ]
    },
    {
     "data": {
      "text/html": [
       "<div>\n",
       "<style scoped>\n",
       "    .dataframe tbody tr th:only-of-type {\n",
       "        vertical-align: middle;\n",
       "    }\n",
       "\n",
       "    .dataframe tbody tr th {\n",
       "        vertical-align: top;\n",
       "    }\n",
       "\n",
       "    .dataframe thead th {\n",
       "        text-align: right;\n",
       "    }\n",
       "</style>\n",
       "<table border=\"1\" class=\"dataframe\">\n",
       "  <thead>\n",
       "    <tr style=\"text-align: right;\">\n",
       "      <th></th>\n",
       "      <th>SK_ID_CURR</th>\n",
       "      <th>NAME_CONTRACT_TYPE</th>\n",
       "      <th>CODE_GENDER</th>\n",
       "      <th>FLAG_OWN_CAR</th>\n",
       "      <th>FLAG_OWN_REALTY</th>\n",
       "      <th>CNT_CHILDREN</th>\n",
       "      <th>AMT_INCOME_TOTAL</th>\n",
       "      <th>AMT_CREDIT</th>\n",
       "      <th>AMT_ANNUITY</th>\n",
       "      <th>AMT_GOODS_PRICE</th>\n",
       "      <th>...</th>\n",
       "      <th>FLAG_DOCUMENT_18</th>\n",
       "      <th>FLAG_DOCUMENT_19</th>\n",
       "      <th>FLAG_DOCUMENT_20</th>\n",
       "      <th>FLAG_DOCUMENT_21</th>\n",
       "      <th>AMT_REQ_CREDIT_BUREAU_HOUR</th>\n",
       "      <th>AMT_REQ_CREDIT_BUREAU_DAY</th>\n",
       "      <th>AMT_REQ_CREDIT_BUREAU_WEEK</th>\n",
       "      <th>AMT_REQ_CREDIT_BUREAU_MON</th>\n",
       "      <th>AMT_REQ_CREDIT_BUREAU_QRT</th>\n",
       "      <th>AMT_REQ_CREDIT_BUREAU_YEAR</th>\n",
       "    </tr>\n",
       "  </thead>\n",
       "  <tbody>\n",
       "    <tr>\n",
       "      <th>0</th>\n",
       "      <td>100001</td>\n",
       "      <td>Cash loans</td>\n",
       "      <td>F</td>\n",
       "      <td>N</td>\n",
       "      <td>Y</td>\n",
       "      <td>0</td>\n",
       "      <td>135000.0</td>\n",
       "      <td>568800.0</td>\n",
       "      <td>20560.5</td>\n",
       "      <td>450000.0</td>\n",
       "      <td>...</td>\n",
       "      <td>0</td>\n",
       "      <td>0</td>\n",
       "      <td>0</td>\n",
       "      <td>0</td>\n",
       "      <td>0.0</td>\n",
       "      <td>0.0</td>\n",
       "      <td>0.0</td>\n",
       "      <td>0.0</td>\n",
       "      <td>0.0</td>\n",
       "      <td>0.0</td>\n",
       "    </tr>\n",
       "    <tr>\n",
       "      <th>1</th>\n",
       "      <td>100005</td>\n",
       "      <td>Cash loans</td>\n",
       "      <td>M</td>\n",
       "      <td>N</td>\n",
       "      <td>Y</td>\n",
       "      <td>0</td>\n",
       "      <td>99000.0</td>\n",
       "      <td>222768.0</td>\n",
       "      <td>17370.0</td>\n",
       "      <td>180000.0</td>\n",
       "      <td>...</td>\n",
       "      <td>0</td>\n",
       "      <td>0</td>\n",
       "      <td>0</td>\n",
       "      <td>0</td>\n",
       "      <td>0.0</td>\n",
       "      <td>0.0</td>\n",
       "      <td>0.0</td>\n",
       "      <td>0.0</td>\n",
       "      <td>0.0</td>\n",
       "      <td>3.0</td>\n",
       "    </tr>\n",
       "    <tr>\n",
       "      <th>2</th>\n",
       "      <td>100013</td>\n",
       "      <td>Cash loans</td>\n",
       "      <td>M</td>\n",
       "      <td>Y</td>\n",
       "      <td>Y</td>\n",
       "      <td>0</td>\n",
       "      <td>202500.0</td>\n",
       "      <td>663264.0</td>\n",
       "      <td>69777.0</td>\n",
       "      <td>630000.0</td>\n",
       "      <td>...</td>\n",
       "      <td>0</td>\n",
       "      <td>0</td>\n",
       "      <td>0</td>\n",
       "      <td>0</td>\n",
       "      <td>0.0</td>\n",
       "      <td>0.0</td>\n",
       "      <td>0.0</td>\n",
       "      <td>0.0</td>\n",
       "      <td>1.0</td>\n",
       "      <td>4.0</td>\n",
       "    </tr>\n",
       "    <tr>\n",
       "      <th>3</th>\n",
       "      <td>100028</td>\n",
       "      <td>Cash loans</td>\n",
       "      <td>F</td>\n",
       "      <td>N</td>\n",
       "      <td>Y</td>\n",
       "      <td>2</td>\n",
       "      <td>315000.0</td>\n",
       "      <td>1575000.0</td>\n",
       "      <td>49018.5</td>\n",
       "      <td>1575000.0</td>\n",
       "      <td>...</td>\n",
       "      <td>0</td>\n",
       "      <td>0</td>\n",
       "      <td>0</td>\n",
       "      <td>0</td>\n",
       "      <td>0.0</td>\n",
       "      <td>0.0</td>\n",
       "      <td>0.0</td>\n",
       "      <td>0.0</td>\n",
       "      <td>0.0</td>\n",
       "      <td>3.0</td>\n",
       "    </tr>\n",
       "    <tr>\n",
       "      <th>4</th>\n",
       "      <td>100038</td>\n",
       "      <td>Cash loans</td>\n",
       "      <td>M</td>\n",
       "      <td>Y</td>\n",
       "      <td>N</td>\n",
       "      <td>1</td>\n",
       "      <td>180000.0</td>\n",
       "      <td>625500.0</td>\n",
       "      <td>32067.0</td>\n",
       "      <td>625500.0</td>\n",
       "      <td>...</td>\n",
       "      <td>0</td>\n",
       "      <td>0</td>\n",
       "      <td>0</td>\n",
       "      <td>0</td>\n",
       "      <td>NaN</td>\n",
       "      <td>NaN</td>\n",
       "      <td>NaN</td>\n",
       "      <td>NaN</td>\n",
       "      <td>NaN</td>\n",
       "      <td>NaN</td>\n",
       "    </tr>\n",
       "  </tbody>\n",
       "</table>\n",
       "<p>5 rows × 121 columns</p>\n",
       "</div>"
      ],
      "text/plain": [
       "   SK_ID_CURR NAME_CONTRACT_TYPE CODE_GENDER FLAG_OWN_CAR FLAG_OWN_REALTY  \\\n",
       "0      100001         Cash loans           F            N               Y   \n",
       "1      100005         Cash loans           M            N               Y   \n",
       "2      100013         Cash loans           M            Y               Y   \n",
       "3      100028         Cash loans           F            N               Y   \n",
       "4      100038         Cash loans           M            Y               N   \n",
       "\n",
       "   CNT_CHILDREN  AMT_INCOME_TOTAL  AMT_CREDIT  AMT_ANNUITY  AMT_GOODS_PRICE  \\\n",
       "0             0          135000.0    568800.0      20560.5         450000.0   \n",
       "1             0           99000.0    222768.0      17370.0         180000.0   \n",
       "2             0          202500.0    663264.0      69777.0         630000.0   \n",
       "3             2          315000.0   1575000.0      49018.5        1575000.0   \n",
       "4             1          180000.0    625500.0      32067.0         625500.0   \n",
       "\n",
       "   ... FLAG_DOCUMENT_18 FLAG_DOCUMENT_19 FLAG_DOCUMENT_20 FLAG_DOCUMENT_21  \\\n",
       "0  ...                0                0                0                0   \n",
       "1  ...                0                0                0                0   \n",
       "2  ...                0                0                0                0   \n",
       "3  ...                0                0                0                0   \n",
       "4  ...                0                0                0                0   \n",
       "\n",
       "  AMT_REQ_CREDIT_BUREAU_HOUR  AMT_REQ_CREDIT_BUREAU_DAY  \\\n",
       "0                        0.0                        0.0   \n",
       "1                        0.0                        0.0   \n",
       "2                        0.0                        0.0   \n",
       "3                        0.0                        0.0   \n",
       "4                        NaN                        NaN   \n",
       "\n",
       "   AMT_REQ_CREDIT_BUREAU_WEEK  AMT_REQ_CREDIT_BUREAU_MON  \\\n",
       "0                         0.0                        0.0   \n",
       "1                         0.0                        0.0   \n",
       "2                         0.0                        0.0   \n",
       "3                         0.0                        0.0   \n",
       "4                         NaN                        NaN   \n",
       "\n",
       "   AMT_REQ_CREDIT_BUREAU_QRT  AMT_REQ_CREDIT_BUREAU_YEAR  \n",
       "0                        0.0                         0.0  \n",
       "1                        0.0                         3.0  \n",
       "2                        1.0                         4.0  \n",
       "3                        0.0                         3.0  \n",
       "4                        NaN                         NaN  \n",
       "\n",
       "[5 rows x 121 columns]"
      ]
     },
     "execution_count": 47,
     "metadata": {},
     "output_type": "execute_result"
    }
   ],
   "source": [
    "application_test.head()"
   ]
  },
  {
   "cell_type": "markdown",
   "metadata": {},
   "source": [
    "# PART 1: ML Models "
   ]
  },
  {
   "cell_type": "markdown",
   "metadata": {},
   "source": [
    "###  MANAGE MISSING VALUES"
   ]
  },
  {
   "cell_type": "markdown",
   "metadata": {},
   "source": [
    "- First, I will try to know th percentage of each column and sort it by descending on application_train and application_test.\n",
    "- Then I dropped columns having percent > 50"
   ]
  },
  {
   "cell_type": "markdown",
   "metadata": {},
   "source": [
    "#### application_train missing values"
   ]
  },
  {
   "cell_type": "code",
   "execution_count": 48,
   "metadata": {},
   "outputs": [
    {
     "name": "stderr",
     "output_type": "stream",
     "text": [
      "C:\\Users\\carol\\anaconda3\\envs\\ML_conda_env\\lib\\site-packages\\ipykernel\\ipkernel.py:287: DeprecationWarning: `should_run_async` will not call `transform_cell` automatically in the future. Please pass the result to `transformed_cell` argument and any exception that happen during thetransform in `preprocessing_exc_tuple` in IPython 7.17 and above.\n",
      "  and should_run_async(code)\n"
     ]
    },
    {
     "data": {
      "text/html": [
       "<div>\n",
       "<style scoped>\n",
       "    .dataframe tbody tr th:only-of-type {\n",
       "        vertical-align: middle;\n",
       "    }\n",
       "\n",
       "    .dataframe tbody tr th {\n",
       "        vertical-align: top;\n",
       "    }\n",
       "\n",
       "    .dataframe thead th {\n",
       "        text-align: right;\n",
       "    }\n",
       "</style>\n",
       "<table border=\"1\" class=\"dataframe\">\n",
       "  <thead>\n",
       "    <tr style=\"text-align: right;\">\n",
       "      <th></th>\n",
       "      <th>Missing Values</th>\n",
       "      <th>% of Total Values</th>\n",
       "    </tr>\n",
       "  </thead>\n",
       "  <tbody>\n",
       "    <tr>\n",
       "      <th>COMMONAREA_MEDI</th>\n",
       "      <td>214865</td>\n",
       "      <td>69.9</td>\n",
       "    </tr>\n",
       "    <tr>\n",
       "      <th>COMMONAREA_AVG</th>\n",
       "      <td>214865</td>\n",
       "      <td>69.9</td>\n",
       "    </tr>\n",
       "    <tr>\n",
       "      <th>COMMONAREA_MODE</th>\n",
       "      <td>214865</td>\n",
       "      <td>69.9</td>\n",
       "    </tr>\n",
       "    <tr>\n",
       "      <th>NONLIVINGAPARTMENTS_MEDI</th>\n",
       "      <td>213514</td>\n",
       "      <td>69.4</td>\n",
       "    </tr>\n",
       "    <tr>\n",
       "      <th>NONLIVINGAPARTMENTS_MODE</th>\n",
       "      <td>213514</td>\n",
       "      <td>69.4</td>\n",
       "    </tr>\n",
       "    <tr>\n",
       "      <th>NONLIVINGAPARTMENTS_AVG</th>\n",
       "      <td>213514</td>\n",
       "      <td>69.4</td>\n",
       "    </tr>\n",
       "    <tr>\n",
       "      <th>FONDKAPREMONT_MODE</th>\n",
       "      <td>210295</td>\n",
       "      <td>68.4</td>\n",
       "    </tr>\n",
       "    <tr>\n",
       "      <th>LIVINGAPARTMENTS_MODE</th>\n",
       "      <td>210199</td>\n",
       "      <td>68.4</td>\n",
       "    </tr>\n",
       "    <tr>\n",
       "      <th>LIVINGAPARTMENTS_MEDI</th>\n",
       "      <td>210199</td>\n",
       "      <td>68.4</td>\n",
       "    </tr>\n",
       "    <tr>\n",
       "      <th>LIVINGAPARTMENTS_AVG</th>\n",
       "      <td>210199</td>\n",
       "      <td>68.4</td>\n",
       "    </tr>\n",
       "  </tbody>\n",
       "</table>\n",
       "</div>"
      ],
      "text/plain": [
       "                          Missing Values  % of Total Values\n",
       "COMMONAREA_MEDI                   214865               69.9\n",
       "COMMONAREA_AVG                    214865               69.9\n",
       "COMMONAREA_MODE                   214865               69.9\n",
       "NONLIVINGAPARTMENTS_MEDI          213514               69.4\n",
       "NONLIVINGAPARTMENTS_MODE          213514               69.4\n",
       "NONLIVINGAPARTMENTS_AVG           213514               69.4\n",
       "FONDKAPREMONT_MODE                210295               68.4\n",
       "LIVINGAPARTMENTS_MODE             210199               68.4\n",
       "LIVINGAPARTMENTS_MEDI             210199               68.4\n",
       "LIVINGAPARTMENTS_AVG              210199               68.4"
      ]
     },
     "metadata": {},
     "output_type": "display_data"
    },
    {
     "name": "stdout",
     "output_type": "stream",
     "text": [
      "-----------------------------------------------------------------------------\n",
      "\n",
      "Your selected dataframe has 122 columns.\n",
      "There are 67 columns that have missing values.\n"
     ]
    }
   ],
   "source": [
    "#Test the application_train set\n",
    "def missing_values_table(df):\n",
    "        mis_val = df.isnull().sum()\n",
    "        mis_val_percent = 100 * df.isnull().sum() / len(df)\n",
    "        mis_val_table = pd.concat([mis_val, mis_val_percent], axis=1)\n",
    "        mis_val_table_ren_columns = mis_val_table.rename(\n",
    "        columns = {0 : 'Missing Values', 1 : '% of Total Values'})\n",
    "        mis_val_table_ren_columns = mis_val_table_ren_columns[\n",
    "            mis_val_table_ren_columns.iloc[:,1] != 0].sort_values(\n",
    "        '% of Total Values', ascending=False).round(1)\n",
    "        return mis_val_table_ren_columns\n",
    "    \n",
    "missing_values_table_train = missing_values_table(application_train)\n",
    "display(missing_values_table_train.head(10))\n",
    "print(\"-----------------------------------------------------------------------------\")\n",
    "print()\n",
    "print (\"Your selected dataframe has \" + str(application_train.shape[1]) + \" columns.\\n\"      \n",
    "            \"There are \" + str(missing_values_table_train.shape[0]) +\n",
    "              \" columns that have missing values.\")"
   ]
  },
  {
   "cell_type": "code",
   "execution_count": 49,
   "metadata": {},
   "outputs": [
    {
     "name": "stdout",
     "output_type": "stream",
     "text": [
      "\n",
      "Your selected dataframe has now 81 columns.\n",
      "There are 41 columns dropped.\n"
     ]
    },
    {
     "name": "stderr",
     "output_type": "stream",
     "text": [
      "C:\\Users\\carol\\anaconda3\\envs\\ML_conda_env\\lib\\site-packages\\ipykernel\\ipkernel.py:287: DeprecationWarning: `should_run_async` will not call `transform_cell` automatically in the future. Please pass the result to `transformed_cell` argument and any exception that happen during thetransform in `preprocessing_exc_tuple` in IPython 7.17 and above.\n",
      "  and should_run_async(code)\n"
     ]
    }
   ],
   "source": [
    "dropped_elmt_train = missing_values_table_train[missing_values_table_train['% of Total Values'] > 50].index\n",
    "application_train.drop(dropped_elmt_train, axis=1, inplace=True)\n",
    "\n",
    "print()\n",
    "print (\"Your selected dataframe has now \" + str(application_train.shape[1]) + \" columns.\\n\"      \n",
    "            \"There are \" + str(dropped_elmt_train.shape[0]) +\n",
    "              \" columns dropped.\")"
   ]
  },
  {
   "cell_type": "code",
   "execution_count": 50,
   "metadata": {},
   "outputs": [
    {
     "name": "stderr",
     "output_type": "stream",
     "text": [
      "C:\\Users\\carol\\anaconda3\\envs\\ML_conda_env\\lib\\site-packages\\ipykernel\\ipkernel.py:287: DeprecationWarning: `should_run_async` will not call `transform_cell` automatically in the future. Please pass the result to `transformed_cell` argument and any exception that happen during thetransform in `preprocessing_exc_tuple` in IPython 7.17 and above.\n",
      "  and should_run_async(code)\n"
     ]
    },
    {
     "data": {
      "text/plain": [
       "F      202448\n",
       "M      105059\n",
       "XNA         4\n",
       "Name: CODE_GENDER, dtype: int64"
      ]
     },
     "metadata": {},
     "output_type": "display_data"
    },
    {
     "name": "stdout",
     "output_type": "stream",
     "text": [
      "\n",
      "-----------------------------------------------------------------------------\n",
      "\n"
     ]
    },
    {
     "data": {
      "text/plain": [
       "F    202452\n",
       "M    105059\n",
       "Name: CODE_GENDER, dtype: int64"
      ]
     },
     "metadata": {},
     "output_type": "display_data"
    }
   ],
   "source": [
    "#There are more F gender in the column, so I decide to replace XNA by F gender\n",
    "display(application_train['CODE_GENDER'].value_counts())\n",
    "print()\n",
    "print(\"-----------------------------------------------------------------------------\")\n",
    "print()\n",
    "application_train['CODE_GENDER'] = application_train['CODE_GENDER'].replace('XNA', 'F')\n",
    "display(application_train['CODE_GENDER'].value_counts())"
   ]
  },
  {
   "cell_type": "markdown",
   "metadata": {},
   "source": [
    "#### application_test missing values"
   ]
  },
  {
   "cell_type": "code",
   "execution_count": 51,
   "metadata": {},
   "outputs": [
    {
     "data": {
      "text/html": [
       "<div>\n",
       "<style scoped>\n",
       "    .dataframe tbody tr th:only-of-type {\n",
       "        vertical-align: middle;\n",
       "    }\n",
       "\n",
       "    .dataframe tbody tr th {\n",
       "        vertical-align: top;\n",
       "    }\n",
       "\n",
       "    .dataframe thead th {\n",
       "        text-align: right;\n",
       "    }\n",
       "</style>\n",
       "<table border=\"1\" class=\"dataframe\">\n",
       "  <thead>\n",
       "    <tr style=\"text-align: right;\">\n",
       "      <th></th>\n",
       "      <th>Missing Values</th>\n",
       "      <th>% of Total Values</th>\n",
       "    </tr>\n",
       "  </thead>\n",
       "  <tbody>\n",
       "    <tr>\n",
       "      <th>COMMONAREA_MODE</th>\n",
       "      <td>33495</td>\n",
       "      <td>68.7</td>\n",
       "    </tr>\n",
       "    <tr>\n",
       "      <th>COMMONAREA_MEDI</th>\n",
       "      <td>33495</td>\n",
       "      <td>68.7</td>\n",
       "    </tr>\n",
       "    <tr>\n",
       "      <th>COMMONAREA_AVG</th>\n",
       "      <td>33495</td>\n",
       "      <td>68.7</td>\n",
       "    </tr>\n",
       "    <tr>\n",
       "      <th>NONLIVINGAPARTMENTS_MEDI</th>\n",
       "      <td>33347</td>\n",
       "      <td>68.4</td>\n",
       "    </tr>\n",
       "    <tr>\n",
       "      <th>NONLIVINGAPARTMENTS_AVG</th>\n",
       "      <td>33347</td>\n",
       "      <td>68.4</td>\n",
       "    </tr>\n",
       "    <tr>\n",
       "      <th>NONLIVINGAPARTMENTS_MODE</th>\n",
       "      <td>33347</td>\n",
       "      <td>68.4</td>\n",
       "    </tr>\n",
       "    <tr>\n",
       "      <th>FONDKAPREMONT_MODE</th>\n",
       "      <td>32797</td>\n",
       "      <td>67.3</td>\n",
       "    </tr>\n",
       "    <tr>\n",
       "      <th>LIVINGAPARTMENTS_MODE</th>\n",
       "      <td>32780</td>\n",
       "      <td>67.2</td>\n",
       "    </tr>\n",
       "    <tr>\n",
       "      <th>LIVINGAPARTMENTS_MEDI</th>\n",
       "      <td>32780</td>\n",
       "      <td>67.2</td>\n",
       "    </tr>\n",
       "    <tr>\n",
       "      <th>LIVINGAPARTMENTS_AVG</th>\n",
       "      <td>32780</td>\n",
       "      <td>67.2</td>\n",
       "    </tr>\n",
       "  </tbody>\n",
       "</table>\n",
       "</div>"
      ],
      "text/plain": [
       "                          Missing Values  % of Total Values\n",
       "COMMONAREA_MODE                    33495               68.7\n",
       "COMMONAREA_MEDI                    33495               68.7\n",
       "COMMONAREA_AVG                     33495               68.7\n",
       "NONLIVINGAPARTMENTS_MEDI           33347               68.4\n",
       "NONLIVINGAPARTMENTS_AVG            33347               68.4\n",
       "NONLIVINGAPARTMENTS_MODE           33347               68.4\n",
       "FONDKAPREMONT_MODE                 32797               67.3\n",
       "LIVINGAPARTMENTS_MODE              32780               67.2\n",
       "LIVINGAPARTMENTS_MEDI              32780               67.2\n",
       "LIVINGAPARTMENTS_AVG               32780               67.2"
      ]
     },
     "metadata": {},
     "output_type": "display_data"
    },
    {
     "name": "stdout",
     "output_type": "stream",
     "text": [
      "-----------------------------------------------------------------------------\n",
      "\n",
      "Your selected dataframe has 121 columns.\n",
      "There are 64 columns that have missing values.\n"
     ]
    }
   ],
   "source": [
    "#Test the application_train set\n",
    "def missing_values_table(df):\n",
    "        mis_val = df.isnull().sum()\n",
    "        mis_val_percent = 100 * df.isnull().sum() / len(df)\n",
    "        mis_val_table = pd.concat([mis_val, mis_val_percent], axis=1)\n",
    "        mis_val_table_ren_columns = mis_val_table.rename(\n",
    "        columns = {0 : 'Missing Values', 1 : '% of Total Values'})\n",
    "        mis_val_table_ren_columns = mis_val_table_ren_columns[\n",
    "            mis_val_table_ren_columns.iloc[:,1] != 0].sort_values(\n",
    "        '% of Total Values', ascending=False).round(1)\n",
    "        return mis_val_table_ren_columns\n",
    "    \n",
    "missing_values_table_test = missing_values_table(application_test)\n",
    "display(missing_values_table_test.head(10))\n",
    "print(\"-----------------------------------------------------------------------------\")\n",
    "print()\n",
    "print (\"Your selected dataframe has \" + str(application_test.shape[1]) + \" columns.\\n\"      \n",
    "            \"There are \" + str(missing_values_table_test.shape[0]) +\n",
    "              \" columns that have missing values.\")"
   ]
  },
  {
   "cell_type": "code",
   "execution_count": 52,
   "metadata": {
    "scrolled": true
   },
   "outputs": [
    {
     "name": "stderr",
     "output_type": "stream",
     "text": [
      "C:\\Users\\carol\\anaconda3\\envs\\ML_conda_env\\lib\\site-packages\\ipykernel\\ipkernel.py:287: DeprecationWarning: `should_run_async` will not call `transform_cell` automatically in the future. Please pass the result to `transformed_cell` argument and any exception that happen during thetransform in `preprocessing_exc_tuple` in IPython 7.17 and above.\n",
      "  and should_run_async(code)\n"
     ]
    },
    {
     "name": "stdout",
     "output_type": "stream",
     "text": [
      "\n",
      "Your selected dataframe has now 92 columns.\n",
      "There are 29 columns dropped.\n"
     ]
    }
   ],
   "source": [
    "dropped_elmt_test = missing_values_table_test[missing_values_table_test['% of Total Values'] > 50].index\n",
    "application_test.drop(dropped_elmt_test, axis=1, inplace=True)\n",
    "\n",
    "print()\n",
    "print (\"Your selected dataframe has now \" + str(application_test.shape[1]) + \" columns.\\n\"      \n",
    "            \"There are \" + str(dropped_elmt_test.shape[0]) +\n",
    "              \" columns dropped.\")"
   ]
  },
  {
   "cell_type": "markdown",
   "metadata": {},
   "source": [
    "#### Align the datasets "
   ]
  },
  {
   "cell_type": "code",
   "execution_count": 53,
   "metadata": {},
   "outputs": [
    {
     "name": "stdout",
     "output_type": "stream",
     "text": [
      "Shape before align the data\n",
      "\n",
      "-> Train Shape : (307511, 80)\n",
      "-> Test Shape : (48744, 92)\n",
      "\n",
      "_____________________________________________________________________________________________\n",
      "\n",
      "Shape after align the data\n",
      "\n",
      "-> Train Shape : (307511, 81)\n",
      "-> Test Shape : (48744, 80)\n"
     ]
    },
    {
     "name": "stderr",
     "output_type": "stream",
     "text": [
      "C:\\Users\\carol\\anaconda3\\envs\\ML_conda_env\\lib\\site-packages\\ipykernel\\ipkernel.py:287: DeprecationWarning: `should_run_async` will not call `transform_cell` automatically in the future. Please pass the result to `transformed_cell` argument and any exception that happen during thetransform in `preprocessing_exc_tuple` in IPython 7.17 and above.\n",
      "  and should_run_async(code)\n"
     ]
    }
   ],
   "source": [
    "#application_train = pd.read_csv(url_train)\n",
    "TARGET = application_train['TARGET']\n",
    "application_train.drop('TARGET', axis=1, inplace=True)\n",
    "\n",
    "print(\"Shape before align the data\")\n",
    "print()\n",
    "print(\"-> Train Shape :\", application_train.shape)\n",
    "print(\"-> Test Shape :\", application_test.shape)\n",
    "print()\n",
    "print('_____________________________________________________________________________________________')\n",
    "print()\n",
    "#-------------------------------------------------------------------------------\n",
    "#Here, I align the train set and test to have the same columns\n",
    "app_train, app_test = application_train.align(application_test, join='inner', axis=1)\n",
    "app_train['TARGET'] = TARGET\n",
    "print(\"Shape after align the data\")\n",
    "print()\n",
    "print(\"-> Train Shape :\", app_train.shape)\n",
    "print(\"-> Test Shape :\", app_test.shape)"
   ]
  },
  {
   "cell_type": "markdown",
   "metadata": {},
   "source": [
    "#### Drop row missing values"
   ]
  },
  {
   "cell_type": "code",
   "execution_count": 54,
   "metadata": {},
   "outputs": [
    {
     "name": "stdout",
     "output_type": "stream",
     "text": [
      "Shape before removing missing values on row\n",
      "\n",
      "-> Train Shape : (307511, 81)\n",
      "-> Test Shape : (48744, 80)\n",
      "\n",
      "_____________________________________________________________________________________________\n",
      "\n",
      "Shape after removing missing values\n",
      "\n",
      "-> Train Shape : (84575, 81)\n",
      "-> Test Shape : (13858, 80)\n"
     ]
    }
   ],
   "source": [
    "#The result in the previous lign shows that there are some missing values in the data\n",
    "#So I decide to drop row\n",
    "print(\"Shape before removing missing values on row\")\n",
    "print()\n",
    "print(\"-> Train Shape :\", app_train.shape)\n",
    "print(\"-> Test Shape :\", app_test.shape)\n",
    "app_train.dropna(inplace=True)\n",
    "app_test.dropna(inplace=True)\n",
    "print()\n",
    "print('_____________________________________________________________________________________________')\n",
    "print()\n",
    "print(\"Shape after removing missing values\")\n",
    "print()\n",
    "print(\"-> Train Shape :\", app_train.shape)\n",
    "print(\"-> Test Shape :\", app_test.shape)"
   ]
  },
  {
   "cell_type": "markdown",
   "metadata": {},
   "source": [
    "###  DATA PREPARATION & EXPLORATION"
   ]
  },
  {
   "cell_type": "code",
   "execution_count": 13,
   "metadata": {},
   "outputs": [
    {
     "name": "stderr",
     "output_type": "stream",
     "text": [
      "C:\\Users\\carol\\anaconda3\\envs\\ML_conda_env\\lib\\site-packages\\ipykernel\\ipkernel.py:287: DeprecationWarning: `should_run_async` will not call `transform_cell` automatically in the future. Please pass the result to `transformed_cell` argument and any exception that happen during thetransform in `preprocessing_exc_tuple` in IPython 7.17 and above.\n",
      "  and should_run_async(code)\n"
     ]
    },
    {
     "data": {
      "image/png": "[encoded data removed]",
      "text/plain": [
       "<Figure size 720x504 with 1 Axes>"
      ]
     },
     "metadata": {
      "needs_background": "light"
     },
     "output_type": "display_data"
    }
   ],
   "source": [
    "#First, I will take a look at the TARGET column on application_train set\n",
    "target = app_train.TARGET.value_counts()\n",
    "\n",
    "plt.figure(figsize=(10,7))\n",
    "sns.countplot(x=app_train.TARGET ,data=app_train, )\n",
    "plt.xlabel(\"Target classes\")\n",
    "plt.ylabel(\"Count of each Target class\")\n",
    "plt.show()"
   ]
  },
  {
   "cell_type": "code",
   "execution_count": 55,
   "metadata": {
    "scrolled": false
   },
   "outputs": [
    {
     "name": "stderr",
     "output_type": "stream",
     "text": [
      "C:\\Users\\carol\\anaconda3\\envs\\ML_conda_env\\lib\\site-packages\\ipykernel\\ipkernel.py:287: DeprecationWarning: `should_run_async` will not call `transform_cell` automatically in the future. Please pass the result to `transformed_cell` argument and any exception that happen during thetransform in `preprocessing_exc_tuple` in IPython 7.17 and above.\n",
      "  and should_run_async(code)\n"
     ]
    },
    {
     "data": {
      "text/plain": [
       "int64      41\n",
       "float64    27\n",
       "object     13\n",
       "dtype: int64"
      ]
     },
     "metadata": {},
     "output_type": "display_data"
    },
    {
     "data": {
      "image/png": "[encoded data removed]",
      "text/plain": [
       "<Figure size 576x432 with 1 Axes>"
      ]
     },
     "metadata": {},
     "output_type": "display_data"
    }
   ],
   "source": [
    "# Here, I will take a look at the columns types of the dataset.\n",
    "t = app_train.dtypes.value_counts()\n",
    "display(t)\n",
    "\n",
    "dt = pd.DataFrame(t, columns=['values'])\n",
    "dt.reset_index(drop = True, inplace = True) \n",
    "\n",
    "labels = ['Float', 'Int', 'Object']\n",
    "sizes = dt[\"values\"]\n",
    "colors = ['gold', 'yellowgreen', 'lightcoral']\n",
    "explode = (0.2, 0.1, 0.1)  # explode 1st slicce\n",
    "\n",
    "# Plot\n",
    "plt.figure(figsize=(8,6))\n",
    "plt.pie(sizes, explode=explode, labels=labels, colors=colors,\n",
    "autopct='%1.1f%%', shadow=True, startangle=140)\n",
    "\n",
    "plt.axis('equal')\n",
    "plt.show()\n"
   ]
  },
  {
   "cell_type": "code",
   "execution_count": 56,
   "metadata": {},
   "outputs": [
    {
     "data": {
      "image/png": "[encoded data removed]",
      "text/plain": [
       "<Figure size 720x504 with 1 Axes>"
      ]
     },
     "metadata": {
      "needs_background": "light"
     },
     "output_type": "display_data"
    }
   ],
   "source": [
    "\n",
    "#I will highlight the columns\n",
    "#print(application_train.select_dtypes(include=['object']))\n",
    "\n",
    "#As we can see, there are 13,1 % of objects columns. Most Machine Learning can not deal with object type, so we need to\n",
    "#do something in order to able use it .\n",
    "\n",
    "f = app_train.select_dtypes(include=['object']).apply(pd.Series.nunique, axis = 0)\n",
    "#print(f)\n",
    "\n",
    "d = pd.DataFrame(f, columns=['values'])\n",
    "\n",
    "fig, ax = plt.subplots(figsize=(10,7))\n",
    "\n",
    "bar_x = [1,2,3,4,5,6,7,8,9,10,11,12,13]\n",
    "\n",
    "bar_height = d['values']\n",
    "bar_tick_label = d.index\n",
    "bar_label = d['values']\n",
    "bar_color = [\"crimson\",\"crimson\",\"crimson\",\"crimson\",\"gold\",\"gold\",\n",
    "            \"gold\",\"gold\",\"gold\",\"gold\",\"gold\", \"gold\",\"crimson\"]\n",
    "bar_plot = plt.bar(bar_x, bar_height, tick_label=bar_tick_label, color=bar_color)\n",
    "\n",
    "def autolabel(rects):\n",
    "    for idx, rect in enumerate(bar_plot):\n",
    "        height = rect.get_height()\n",
    "        ax.text(rect.get_x() + rect.get_width()/2., 1.05*height,\n",
    "                bar_label[idx],\n",
    "                ha='center', va='bottom', rotation=0)\n",
    "\n",
    "autolabel(bar_plot)\n",
    "plt.xticks(rotation=90)\n",
    "plt.ylim(0, 65)\n",
    "plt.show()"
   ]
  },
  {
   "cell_type": "code",
   "execution_count": 16,
   "metadata": {},
   "outputs": [],
   "source": [
    "#Here, we have two categorical variables types, fisrt with 2 unique categories and the second more than 2 categories\n",
    "\n",
    "#1. LabelEncoder\n",
    "#application_train = pd.read_csv(url_train)\n",
    "\n",
    "def LE (data):\n",
    "    Label = LabelEncoder()\n",
    "    \n",
    "    for col in data:\n",
    "        if data[col].dtype == 'object':\n",
    "            if len(list(data[col].unique())) <= 2 :\n",
    "                Label.fit(data[col]) \n",
    "                data[col] = Label.transform(data[col])\n",
    "    return data\n",
    "\n",
    "#2. One-Hot-encoding\n",
    "def OHE(df):\n",
    "    categorie_variable_column = []\n",
    "    \n",
    "    for col in df:\n",
    "        if df[col].dtype == 'object':\n",
    "            if len(list(df[col].unique())) > 2 :\n",
    "                categorie_variable_column.append(col)\n",
    "                \n",
    "    one_hot_encoding = df.loc[:, categorie_variable_column]\n",
    "    df = df.drop(categorie_variable_column, axis = 1)\n",
    "    df1 = pd.get_dummies(one_hot_encoding)\n",
    "    df_new = df.merge(df1, left_index=True, right_index = True)\n",
    "    print(\"-> Shape :\", df_new.shape)\n",
    "    \n",
    "    return df_new"
   ]
  },
  {
   "cell_type": "code",
   "execution_count": 57,
   "metadata": {},
   "outputs": [
    {
     "name": "stdout",
     "output_type": "stream",
     "text": [
      "Shape before the labelization\n",
      "-> Train shape : (84575, 81)\n",
      "-> Test shape : (13858, 80)\n",
      "\n",
      "_____________________________________________________________________________________________\n",
      "\n",
      "Shape after the labelization\n",
      "-> Shape : (84575, 183)\n",
      "-> Shape : (13858, 179)\n",
      "\n",
      "_____________________________________________________________________________________________\n",
      "\n",
      "Shape after align the datasets to have the same columns\n",
      "-> Train shape : (84575, 180)\n",
      "-> Test shape : (13858, 179)\n"
     ]
    }
   ],
   "source": [
    "print(\"Shape before the labelization\")\n",
    "print(\"-> Train shape :\", app_train.shape)\n",
    "print(\"-> Test shape :\", app_test.shape)\n",
    "print()\n",
    "print('_____________________________________________________________________________________________')\n",
    "print()\n",
    "print(\"Shape after the labelization\")\n",
    "#Application train dataset\n",
    "app_train_LE = LE(app_train)\n",
    "app_train_ = OHE(app_train_LE)\n",
    "\n",
    "#Application test dataset\n",
    "app_test_LE = LE(app_test)\n",
    "app_test_ = OHE(app_test_LE)\n",
    "\n",
    "#As we want the train set and test to have the same columns\n",
    "labels = app_train_['TARGET']\n",
    "\n",
    "app_train, app_test = app_train_.align(app_test_, join='inner', axis=1)\n",
    "app_train['TARGET'] = labels\n",
    "print()\n",
    "print('_____________________________________________________________________________________________')\n",
    "print()\n",
    "print(\"Shape after align the datasets to have the same columns\")\n",
    "print(\"-> Train shape :\", app_train.shape)\n",
    "print(\"-> Test shape :\", app_test.shape)\n"
   ]
  },
  {
   "cell_type": "markdown",
   "metadata": {},
   "source": [
    "### MODELS"
   ]
  },
  {
   "cell_type": "code",
   "execution_count": 18,
   "metadata": {},
   "outputs": [],
   "source": [
    "from sklearn.model_selection import train_test_split\n",
    "\n",
    "X = app_train.drop('TARGET', axis=1)\n",
    "y = app_train['TARGET']\n",
    "\n",
    "X_train, X_test, y_train, y_test = train_test_split(X, y, stratify=y, test_size=.2, random_state=42)"
   ]
  },
  {
   "cell_type": "markdown",
   "metadata": {},
   "source": [
    "#### XgBoost"
   ]
  },
  {
   "cell_type": "code",
   "execution_count": 58,
   "metadata": {},
   "outputs": [
    {
     "name": "stdout",
     "output_type": "stream",
     "text": [
      "Model XGboost Report\n",
      "\n",
      "              precision    recall  f1-score   support\n",
      "\n",
      "           0       0.93      1.00      0.96     15660\n",
      "           1       0.62      0.00      0.01      1255\n",
      "\n",
      "    accuracy                           0.93     16915\n",
      "   macro avg       0.78      0.50      0.48     16915\n",
      "weighted avg       0.90      0.93      0.89     16915\n",
      "\n",
      "\n",
      "_____________________________________________________________________________________________\n",
      "\n",
      "Accuracy for model : 92.59 %\n"
     ]
    }
   ],
   "source": [
    "from xgboost.sklearn import XGBClassifier\n",
    "from sklearn.metrics import classification_report\n",
    "from sklearn.metrics import accuracy_score\n",
    "\n",
    "model_xgb = XGBClassifier(n_estimators=100, max_depth=2, learning_rate=0.1, subsample=0.5)\n",
    "train_model_xgb = model_xgb.fit(X_train, y_train)\n",
    "\n",
    "prediction_xgb = train_model_xgb.predict(X_test)\n",
    "\n",
    "#Let's print the report.\n",
    "\n",
    "print('Model XGboost Report')\n",
    "print()\n",
    "print(classification_report(y_test, prediction_xgb))\n",
    "print()\n",
    "print('_____________________________________________________________________________________________')\n",
    "print()\n",
    "#Let's use accuracy score\n",
    "\n",
    "print(\"Accuracy for model : %.2f\" % (accuracy_score(y_test, prediction_xgb) * 100), \"%\")"
   ]
  },
  {
   "cell_type": "markdown",
   "metadata": {},
   "source": [
    "#### Random Forest "
   ]
  },
  {
   "cell_type": "code",
   "execution_count": 59,
   "metadata": {},
   "outputs": [],
   "source": [
    "from sklearn.ensemble import RandomForestClassifier\n",
    "\n",
    "model_rfc = RandomForestClassifier()\n",
    "train_model_rfc = model_rfc.fit(X_train, y_train)\n",
    "\n",
    "prediction_rfc = train_model_rfc.predict(X_test)"
   ]
  },
  {
   "cell_type": "code",
   "execution_count": 60,
   "metadata": {},
   "outputs": [
    {
     "name": "stderr",
     "output_type": "stream",
     "text": [
      "C:\\Users\\carol\\anaconda3\\envs\\ML_conda_env\\lib\\site-packages\\ipykernel\\ipkernel.py:287: DeprecationWarning: `should_run_async` will not call `transform_cell` automatically in the future. Please pass the result to `transformed_cell` argument and any exception that happen during thetransform in `preprocessing_exc_tuple` in IPython 7.17 and above.\n",
      "  and should_run_async(code)\n"
     ]
    },
    {
     "name": "stdout",
     "output_type": "stream",
     "text": [
      "Model Random Forest Report\n",
      "\n",
      "              precision    recall  f1-score   support\n",
      "\n",
      "           0       0.93      1.00      0.96     15660\n",
      "           1       0.00      0.00      0.00      1255\n",
      "\n",
      "    accuracy                           0.93     16915\n",
      "   macro avg       0.46      0.50      0.48     16915\n",
      "weighted avg       0.86      0.93      0.89     16915\n",
      "\n",
      "\n",
      "_____________________________________________________________________________________________\n",
      "\n",
      "Accuracy for Random Forest Model: 92.58 %\n"
     ]
    }
   ],
   "source": [
    "print('Model Random Forest Report')\n",
    "print()\n",
    "print(classification_report(y_test, prediction_rfc))\n",
    "print()\n",
    "print('_____________________________________________________________________________________________')\n",
    "print()\n",
    "#Let's use accuracy score\n",
    "\n",
    "print(\"Accuracy for Random Forest Model: %.2f\" % (accuracy_score(y_test, prediction_rfc) * 100), \"%\")"
   ]
  },
  {
   "cell_type": "markdown",
   "metadata": {},
   "source": [
    "#### Gradient Boosting"
   ]
  },
  {
   "cell_type": "code",
   "execution_count": 61,
   "metadata": {},
   "outputs": [],
   "source": [
    "from sklearn.ensemble import GradientBoostingClassifier\n",
    "\n",
    "model_gbc = GradientBoostingClassifier()\n",
    "train_model_gbc = model_gbc.fit(X_train, y_train)\n",
    "\n",
    "prediction_gbc = train_model_gbc.predict(X_test)"
   ]
  },
  {
   "cell_type": "code",
   "execution_count": 62,
   "metadata": {},
   "outputs": [
    {
     "name": "stderr",
     "output_type": "stream",
     "text": [
      "C:\\Users\\carol\\anaconda3\\envs\\ML_conda_env\\lib\\site-packages\\ipykernel\\ipkernel.py:287: DeprecationWarning: `should_run_async` will not call `transform_cell` automatically in the future. Please pass the result to `transformed_cell` argument and any exception that happen during thetransform in `preprocessing_exc_tuple` in IPython 7.17 and above.\n",
      "  and should_run_async(code)\n"
     ]
    },
    {
     "name": "stdout",
     "output_type": "stream",
     "text": [
      "Model Gradient Boosting Report\n",
      "\n",
      "              precision    recall  f1-score   support\n",
      "\n",
      "           0       0.93      1.00      0.96     15660\n",
      "           1       0.54      0.01      0.02      1255\n",
      "\n",
      "    accuracy                           0.93     16915\n",
      "   macro avg       0.73      0.51      0.49     16915\n",
      "weighted avg       0.90      0.93      0.89     16915\n",
      "\n",
      "\n",
      "_____________________________________________________________________________________________\n",
      "\n",
      "Accuracy for Random Forest Model: 92.59 %\n"
     ]
    }
   ],
   "source": [
    "print('Model Gradient Boosting Report')\n",
    "print()\n",
    "print(classification_report(y_test, prediction_gbc))\n",
    "print()\n",
    "print('_____________________________________________________________________________________________')\n",
    "print()\n",
    "#Let's use accuracy score\n",
    "\n",
    "print(\"Accuracy for Random Forest Model: %.2f\" % (accuracy_score(y_test, prediction_gbc) * 100), \"%\")"
   ]
  },
  {
   "cell_type": "markdown",
   "metadata": {},
   "source": [
    "# PART 2: MLFlow"
   ]
  },
  {
   "cell_type": "markdown",
   "metadata": {},
   "source": [
    "http://localhost:5000."
   ]
  },
  {
   "cell_type": "code",
   "execution_count": 71,
   "metadata": {},
   "outputs": [
    {
     "name": "stderr",
     "output_type": "stream",
     "text": [
      "C:\\Users\\carol\\anaconda3\\envs\\ML_conda_env\\lib\\site-packages\\ipykernel\\ipkernel.py:287: DeprecationWarning: `should_run_async` will not call `transform_cell` automatically in the future. Please pass the result to `transformed_cell` argument and any exception that happen during thetransform in `preprocessing_exc_tuple` in IPython 7.17 and above.\n",
      "  and should_run_async(code)\n"
     ]
    }
   ],
   "source": [
    "from sklearn.metrics import mean_squared_error, mean_absolute_error, r2_score\n",
    "def eval_metrics(actual, pred):\n",
    "        rmse = np.sqrt(mean_squared_error(actual, pred)) * 100\n",
    "        mae = mean_absolute_error(actual, pred) * 100\n",
    "        r2 = r2_score(actual, pred) * 100\n",
    "        return rmse, mae, r2 "
   ]
  },
  {
   "cell_type": "markdown",
   "metadata": {},
   "source": [
    "#### XGBoost"
   ]
  },
  {
   "cell_type": "code",
   "execution_count": 79,
   "metadata": {},
   "outputs": [
    {
     "name": "stderr",
     "output_type": "stream",
     "text": [
      "C:\\Users\\carol\\anaconda3\\envs\\ML_conda_env\\lib\\site-packages\\ipykernel\\ipkernel.py:287: DeprecationWarning: `should_run_async` will not call `transform_cell` automatically in the future. Please pass the result to `transformed_cell` argument and any exception that happen during thetransform in `preprocessing_exc_tuple` in IPython 7.17 and above.\n",
      "  and should_run_async(code)\n"
     ]
    },
    {
     "name": "stdout",
     "output_type": "stream",
     "text": [
      "Metrics for XGBoost:\n",
      "_______________\n",
      "| RMSE | 27.2% |\n",
      "_______________\n",
      "| MAE  | 7.4%  |\n",
      "_______________\n",
      "| R2   | -7.8% |\n",
      "_______________\n",
      "| ACC  | 92.6% |\n",
      "_______________\n",
      "\n",
      "Model saved in run cfb3cbd82c264b069dd43c02c5ab07aa\n"
     ]
    }
   ],
   "source": [
    "import mlflow.xgboost\n",
    "\n",
    "    \n",
    "if __name__ == \"__main__\":\n",
    "    # enable auto logging\n",
    "    mlflow.xgboost.autolog()\n",
    "    \n",
    "    #mlflow.end_run()\n",
    "    \n",
    "    with mlflow.start_run():\n",
    "        \n",
    "        model_xgb_mlflow = XGBClassifier(n_estimators=100, max_depth=2, learning_rate=0.1, subsample=0.5)\n",
    "        train_model_xgb_mlflow = model_xgb_mlflow.fit(X_train, y_train)\n",
    "        \n",
    "        #Evaluation model\n",
    "        prediction_xgb_mlflow = train_model_xgb_mlflow.predict(X_test)\n",
    "        (rmse_xgb, mae_xgb, r2_xgb) = eval_metrics(y_test, prediction_xgb_mlflow)\n",
    "        acc_xgb = accuracy_score(y_test, prediction_xgb_mlflow) * 100\n",
    "        \n",
    "        # Print out metrics\n",
    "        print(\"Metrics for XGBoost:\" )\n",
    "        print(\"_______________\")\n",
    "        print(\"| RMSE | %1.1f%% |\" % rmse_xgb)\n",
    "        print(\"_______________\")\n",
    "        print(\"| MAE  | %1.1f%%  |\" % mae_xgb)\n",
    "        print(\"_______________\")\n",
    "        print(\"| R2   | %1.1f%% |\" % r2_xgb)\n",
    "        print(\"_______________\")\n",
    "        print(\"| ACC  | %1.1f%% |\" % acc_xgb)\n",
    "        print(\"_______________\")\n",
    "        print()\n",
    "        \n",
    "        # Log parameter, metrics, and model to MLflow\n",
    "        mlflow.log_metric(\"rmse\", rmse_xgb)\n",
    "        mlflow.log_metric(\"r2\", r2_xgb)\n",
    "        mlflow.log_metric(\"mae\", mae_xgb)\n",
    "        mlflow.log_metric(\"acc\", acc_xgb)\n",
    "        \n",
    "        \n",
    "        mlflow.sklearn.log_model(model_xgb_mlflow, \"model\")\n",
    "        print(\"Model saved in run %s\" % mlflow.active_run().info.run_uuid)\n",
    "        "
   ]
  },
  {
   "cell_type": "markdown",
   "metadata": {},
   "source": [
    "#### Random Forest "
   ]
  },
  {
   "cell_type": "code",
   "execution_count": 81,
   "metadata": {},
   "outputs": [
    {
     "name": "stderr",
     "output_type": "stream",
     "text": [
      "C:\\Users\\carol\\anaconda3\\envs\\ML_conda_env\\lib\\site-packages\\ipykernel\\ipkernel.py:287: DeprecationWarning: `should_run_async` will not call `transform_cell` automatically in the future. Please pass the result to `transformed_cell` argument and any exception that happen during thetransform in `preprocessing_exc_tuple` in IPython 7.17 and above.\n",
      "  and should_run_async(code)\n"
     ]
    },
    {
     "name": "stdout",
     "output_type": "stream",
     "text": [
      "Metrics for Random Forest:\n",
      "_______________\n",
      "| RMSE | 27.2% |\n",
      "_______________\n",
      "| MAE  | 7.4%  |\n",
      "_______________\n",
      "| R2   | -8.0% |\n",
      "_______________\n",
      "| ACC  | 92.6% |\n",
      "_______________\n",
      "\n",
      "Model saved in run 189fa4243eb947f7a7da2ae550e771cf\n"
     ]
    }
   ],
   "source": [
    "from sklearn.ensemble import RandomForestClassifier\n",
    "import mlflow\n",
    "\n",
    "    \n",
    "if __name__ == \"__main__\":\n",
    "    # enable auto logging\n",
    "    mlflow.sklearn.autolog()\n",
    "    \n",
    "    #mlflow.end_run()\n",
    "    \n",
    "    with mlflow.start_run():\n",
    "        \n",
    "        model_rdf_mlflow =RandomForestClassifier()\n",
    "        train_model_rdf_mlflow = model_rdf_mlflow.fit(X_train, y_train)\n",
    "        \n",
    "        #Evaluation model\n",
    "        prediction_rdf_mlflow = train_model_rdf_mlflow.predict(X_test)\n",
    "        (rmse_rdf, mae_rdf, r2_rdf) = eval_metrics(y_test, prediction_rdf_mlflow)\n",
    "        acc_rdf = accuracy_score(y_test, prediction_rdf_mlflow) * 100\n",
    "        \n",
    "        # Print out metrics\n",
    "        print(\"Metrics for Random Forest:\" )\n",
    "        print(\"_______________\")\n",
    "        print(\"| RMSE | %1.1f%% |\" % rmse_rdf)\n",
    "        print(\"_______________\")\n",
    "        print(\"| MAE  | %1.1f%%  |\" % mae_rdf)\n",
    "        print(\"_______________\")\n",
    "        print(\"| R2   | %1.1f%% |\" % r2_rdf)\n",
    "        print(\"_______________\")\n",
    "        print(\"| ACC  | %1.1f%% |\" % acc_rdf)\n",
    "        print(\"_______________\")\n",
    "        print()\n",
    "        \n",
    "        # Log parameter, metrics, and model to MLflow\n",
    "        mlflow.log_metric(\"rmse\", rmse_rdf)\n",
    "        mlflow.log_metric(\"r2\", r2_rdf)\n",
    "        mlflow.log_metric(\"mae\", mae_rdf)\n",
    "        mlflow.log_metric(\"acc\", acc_rdf)\n",
    "        \n",
    "        \n",
    "        mlflow.sklearn.log_model(model_rdf_mlflow, \"model\")\n",
    "        print(\"Model saved in run %s\" % mlflow.active_run().info.run_uuid)"
   ]
  },
  {
   "cell_type": "markdown",
   "metadata": {},
   "source": [
    "#### Gradient Boosting"
   ]
  },
  {
   "cell_type": "code",
   "execution_count": 83,
   "metadata": {},
   "outputs": [
    {
     "name": "stdout",
     "output_type": "stream",
     "text": [
      "Metrics for Gradient Boosting:\n",
      "_______________\n",
      "| RMSE | 27.2% |\n",
      "_______________\n",
      "| MAE  | 7.4%  |\n",
      "_______________\n",
      "| R2   | -8.0% |\n",
      "_______________\n",
      "| ACC  | 92.6% |\n",
      "_______________\n",
      "\n",
      "Model saved in run d52c814744f64363b676dc93667d5677\n"
     ]
    }
   ],
   "source": [
    "from sklearn.ensemble import GradientBoostingClassifier\n",
    "import mlflow\n",
    "\n",
    "    \n",
    "if __name__ == \"__main__\":\n",
    "    # enable auto logging\n",
    "    mlflow.sklearn.autolog()\n",
    "    \n",
    "    #mlflow.end_run()\n",
    "    \n",
    "    with mlflow.start_run():\n",
    "        \n",
    "        model_gbc_mlflow =GradientBoostingClassifier()\n",
    "        train_model_gbc_mlflow = model_gbc_mlflow.fit(X_train, y_train)\n",
    "        \n",
    "        #Evaluation model\n",
    "        prediction_gbc_mlflow = train_model_gbc_mlflow.predict(X_test)\n",
    "        (rmse_gbc, mae_gbc, r2_gbc) = eval_metrics(y_test, prediction_rdf_mlflow)\n",
    "        acc_gbc = accuracy_score(y_test, prediction_gbc_mlflow) * 100\n",
    "        \n",
    "        # Print out metrics\n",
    "        \n",
    "        print(\"Metrics for Gradient Boosting:\" )\n",
    "        print(\"_______________\")\n",
    "        print(\"| RMSE | %1.1f%% |\" % rmse_gbc)\n",
    "        print(\"_______________\")\n",
    "        print(\"| MAE  | %1.1f%%  |\" % mae_gbc)\n",
    "        print(\"_______________\")\n",
    "        print(\"| R2   | %1.1f%% |\" % r2_gbc)\n",
    "        print(\"_______________\")\n",
    "        print(\"| ACC  | %1.1f%% |\" % acc_gbc)\n",
    "        print(\"_______________\")\n",
    "        print()\n",
    "        \n",
    "        # Log parameter, metrics, and model to MLflow\n",
    "        mlflow.log_metric(\"rmse\", rmse_gbc)\n",
    "        mlflow.log_metric(\"r2\", r2_gbc)\n",
    "        mlflow.log_metric(\"mae\", mae_gbc)\n",
    "        mlflow.log_metric(\"acc\", acc_gbc)\n",
    "        \n",
    "        \n",
    "        mlflow.sklearn.log_model(model_rdf_mlflow, \"model\")\n",
    "        print(\"Model saved in run %s\" % mlflow.active_run().info.run_uuid)"
   ]
  },
  {
   "cell_type": "markdown",
   "metadata": {},
   "source": [
    "# PART 3: XAI with LIME Method"
   ]
  },
  {
   "cell_type": "code",
   "execution_count": null,
   "metadata": {},
   "outputs": [],
   "source": []
  }
 ],
 "metadata": {
  "kernelspec": {
   "display_name": "Python [conda env:ML_conda_env]",
   "language": "python",
   "name": "conda-env-ML_conda_env-py"
  },
  "language_info": {
   "codemirror_mode": {
    "name": "ipython",
    "version": 3
   },
   "file_extension": ".py",
   "mimetype": "text/x-python",
   "name": "python",
   "nbconvert_exporter": "python",
   "pygments_lexer": "ipython3",
   "version": "3.8.5"
  }
 },
 "nbformat": 4,
 "nbformat_minor": 4
}
